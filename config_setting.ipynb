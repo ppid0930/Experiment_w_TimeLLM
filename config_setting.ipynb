{
 "cells": [
  {
   "cell_type": "code",
   "execution_count": 4,
   "id": "d6f79b6a-2c1d-4ea2-9675-663a63b7933d",
   "metadata": {},
   "outputs": [
    {
     "name": "stdout",
     "output_type": "stream",
     "text": [
      "Config file updated successfully.\n"
     ]
    }
   ],
   "source": [
    "import json\n",
    "\n",
    "# 파일 경로\n",
    "config_file_path = './ds_config_zero2.json'\n",
    "\n",
    "# 파일 읽기\n",
    "with open(config_file_path, 'r') as file:\n",
    "    config = json.load(file)\n",
    "\n",
    "# 수정 (예시: fp16 비활성화, bf16 활성화)\n",
    "config['fp16'] = {'enabled': False}\n",
    "config['bf16'] = {'enabled': True}\n",
    "config['bf16']['autocast'] = True\n",
    "\n",
    "# 파일 저장\n",
    "with open(config_file_path, 'w') as file:\n",
    "    json.dump(config, file, indent=4)\n",
    "\n",
    "print(\"Config file updated successfully.\")"
   ]
  },
  {
   "cell_type": "code",
   "execution_count": null,
   "id": "02661b2a-afe4-41a6-8d4b-26f03401460b",
   "metadata": {},
   "outputs": [],
   "source": []
  }
 ],
 "metadata": {
  "kernelspec": {
   "display_name": "Python 3 (ipykernel)",
   "language": "python",
   "name": "python3"
  },
  "language_info": {
   "codemirror_mode": {
    "name": "ipython",
    "version": 3
   },
   "file_extension": ".py",
   "mimetype": "text/x-python",
   "name": "python",
   "nbconvert_exporter": "python",
   "pygments_lexer": "ipython3",
   "version": "3.11.0rc1"
  }
 },
 "nbformat": 4,
 "nbformat_minor": 5
}
