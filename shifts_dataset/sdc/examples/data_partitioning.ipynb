{
 "cells": [
  {
   "cell_type": "markdown",
   "metadata": {},
   "source": [
    "## Index:\n",
    "- **Basic Tags Usage** part describes the available scene tags and gives an example on building your own tags filter\n",
    "- **Canonical Partitioning** part illustrates how to use filters provided as a part of the API to get the dataset split used in the Shifts competition"
   ]
  },
  {
   "cell_type": "markdown",
   "metadata": {},
   "source": [
    "## Basic Tags Usage\n",
    "\n",
    "For the usage of MotionPredictionDataset refer to [example.ipynb](https://github.com/yandex-research/shifts/blob/main/sdc/examples/example.ipynb) and the [class definition](https://github.com/yandex-research/shifts/blob/main/sdc/ysdc_dataset_api/dataset/dataset.py#L23)."
   ]
  },
  {
   "cell_type": "code",
   "execution_count": 12,
   "metadata": {},
   "outputs": [],
   "source": [
    "from ysdc_dataset_api.dataset import MotionPredictionDataset"
   ]
  },
  {
   "cell_type": "code",
   "execution_count": 13,
   "metadata": {},
   "outputs": [],
   "source": [
    "# Path to the directory with protobuf data\n",
    "dataset_path = '/path/to/dataset/dir'\n",
    "# Path to the file containing scene tags.\n",
    "# All the tag files are stored inside tar.gz data archives.\n",
    "scene_tags_fpath = '/path/to/dataset/tags/file'"
   ]
  },
  {
   "cell_type": "markdown",
   "metadata": {},
   "source": [
    "To filter scenes by tags a user should define a filter function which accepts a tags dict as an input and return True if a scene meets the desired filter criteria and False otherwise.\n",
    "\n",
    "The scene tags dict has following structure:\n",
    "```\n",
    "{\n",
    "    'day_time': one of {'kNight', 'kMorning', 'kAfternoon', 'kEvening'}\n",
    "    'season': one of {'kWinter', 'kSpring', 'kSummer', 'kAutumn'}\n",
    "    'track': one of {'Moscow' , 'Skolkovo', 'Innopolis', 'AnnArbor', 'Modiin', 'TelAviv'}\n",
    "    'sun_phase': one of {'kAstronomicalNight', 'kTwilight', 'kDaylight'}\n",
    "    'precipitation': one of {'kNoPrecipitation', 'kRain', 'kSleet', 'kSnow'}\n",
    "}\n",
    "```\n",
    "Full description of protobuf message is available at [tags.proto](https://github.com/yandex-research/shifts/blob/main/sdc/ysdc_dataset_api/proto/tags.proto) file."
   ]
  },
  {
   "cell_type": "code",
   "execution_count": 14,
   "metadata": {},
   "outputs": [],
   "source": [
    "# Let's define some tags filter\n",
    "def filter_rainy_innopolis(scene_tags_dict):\n",
    "    return scene_tags_dict['track'] == 'Innopolis' and scene_tags_dict['precipitation'] == 'kRain'"
   ]
  },
  {
   "cell_type": "markdown",
   "metadata": {},
   "source": [
    "MotionPredictionDataset inherits [torch.utils.data.IterableDataset](https://pytorch.org/docs/stable/data.html#torch.utils.data.IterableDataset) interface."
   ]
  },
  {
   "cell_type": "code",
   "execution_count": 15,
   "metadata": {},
   "outputs": [
    {
     "name": "stdout",
     "output_type": "stream",
     "text": [
      "176/50000 scenes fit the filter criteria.\n"
     ]
    }
   ],
   "source": [
    "dataset = MotionPredictionDataset(\n",
    "    dataset_path=dataset_path,\n",
    "    scene_tags_fpath=scene_tags_fpath,\n",
    "    scene_tags_filter=filter_rainy_innopolis,\n",
    ")"
   ]
  },
  {
   "cell_type": "code",
   "execution_count": 16,
   "metadata": {},
   "outputs": [
    {
     "data": {
      "text/plain": [
       "176"
      ]
     },
     "execution_count": 16,
     "metadata": {},
     "output_type": "execute_result"
    }
   ],
   "source": [
    "# The number of scenes after filtering:\n",
    "dataset.num_scenes"
   ]
  },
  {
   "cell_type": "markdown",
   "metadata": {},
   "source": [
    "## Canonical Partitioning"
   ]
  },
  {
   "cell_type": "markdown",
   "metadata": {},
   "source": [
    "To get the canonical dataset one can use a set of filters from the package."
   ]
  },
  {
   "cell_type": "code",
   "execution_count": 17,
   "metadata": {},
   "outputs": [],
   "source": [
    "from sdc.filters import DATASETS_TO_FILTERS"
   ]
  },
  {
   "cell_type": "code",
   "execution_count": 39,
   "metadata": {},
   "outputs": [
    {
     "name": "stdout",
     "output_type": "stream",
     "text": [
      "Dataset name: train\n",
      "Dataset filters:\n",
      "  * moscow__train\n",
      "---\n",
      "Dataset name: development\n",
      "Dataset filters:\n",
      "  * moscow__development\n",
      "  * ood__development\n",
      "---\n",
      "Dataset name: evaluation\n",
      "Dataset filters:\n",
      "  * moscow__evaluation\n",
      "  * ood__evaluation\n",
      "---\n"
     ]
    }
   ],
   "source": [
    "# DATASETS_TO_FILTERS dict contains a map from dataset type (train/development/evaluation)\n",
    "# to a map from filter name to respective filter function.\n",
    "\n",
    "for dataset_name, dataset_filters in DATASETS_TO_FILTERS.items():\n",
    "    print(f'Dataset name: {dataset_name}')\n",
    "    print('Dataset filters:')\n",
    "    for filter_name, _ in dataset_filters.items():\n",
    "        print(f'  * {filter_name}')\n",
    "    print('---')"
   ]
  },
  {
   "cell_type": "code",
   "execution_count": 26,
   "metadata": {},
   "outputs": [],
   "source": [
    "# Specify paths to datasets and respective tags files.\n",
    "\n",
    "train_dataset_path = '/path/to/train/dataset/dir'\n",
    "train_tags_fpath = '/path/to/train/tags/file'\n",
    "\n",
    "development_dataset_path = '/path/to/development/dataset/dir'\n",
    "development_tags_fpath = '/path/to/development/tags/file'\n",
    "\n",
    "evaluation_dataset_path = '/path/to/evaluation/dataset/dir'\n",
    "evaluation_tags_fpath = '/path/to/evaluation/tags/file'"
   ]
  },
  {
   "cell_type": "code",
   "execution_count": 36,
   "metadata": {},
   "outputs": [],
   "source": [
    "train_filters = DATASETS_TO_FILTERS['train']\n",
    "development_filters = DATASETS_TO_FILTERS['development']\n",
    "evaluation_filters = DATASETS_TO_FILTERS['evaluation']"
   ]
  },
  {
   "cell_type": "code",
   "execution_count": 38,
   "metadata": {},
   "outputs": [
    {
     "name": "stdout",
     "output_type": "stream",
     "text": [
      "27036/50000 scenes fit the filter criteria.\n",
      "9569/50000 scenes fit the filter criteria.\n"
     ]
    }
   ],
   "source": [
    "train_dataset = MotionPredictionDataset(\n",
    "    dataset_path=train_dataset_path,\n",
    "    scene_tags_fpath=train_tags_fpath,\n",
    "    scene_tags_filter=train_filters['moscow__train'],\n",
    ")\n",
    "\n",
    "dev_in_dataset = MotionPredictionDataset(\n",
    "    dataset_path=development_dataset_path,\n",
    "    scene_tags_fpath=development_tags_fpath,\n",
    "    scene_tags_filter=development_filters['moscow__development'],\n",
    ")\n",
    "dev_out_dataset = MotionPredictionDataset(\n",
    "    dataset_path=development_dataset_path,\n",
    "    scene_tags_fpath=development_tags_fpath,\n",
    "    scene_tags_filter=development_filters['ood__development'],\n",
    ")\n",
    "\n",
    "eval_in_dataset = MotionPredictionDataset(\n",
    "    dataset_path=evaluation_dataset_path,\n",
    "    scene_tags_fpath=evaluation_tags_fpath,\n",
    "    scene_tags_filter=evaluation_filters['moscow__evaluation'],\n",
    ")\n",
    "eval_out_dataset = MotionPredictionDataset(\n",
    "    dataset_path=evaluation_dataset_path,\n",
    "    scene_tags_fpath=evaluation_tags_fpath,\n",
    "    scene_tags_filter=evaluation_filters['ood__evaluation'],\n",
    ")"
   ]
  },
  {
   "cell_type": "code",
   "execution_count": null,
   "metadata": {},
   "outputs": [],
   "source": []
  }
 ],
 "metadata": {
  "interpreter": {
   "hash": "52fd37fc19794e402c13085b7708ca3d356bc0f59c68efac4f5e72fab90944f9"
  },
  "kernelspec": {
   "display_name": "Python 3.9.5 64-bit ('.pytorch': venv)",
   "name": "python3"
  },
  "language_info": {
   "codemirror_mode": {
    "name": "ipython",
    "version": 3
   },
   "file_extension": ".py",
   "mimetype": "text/x-python",
   "name": "python",
   "nbconvert_exporter": "python",
   "pygments_lexer": "ipython3",
   "version": "3.9.5"
  },
  "orig_nbformat": 4
 },
 "nbformat": 4,
 "nbformat_minor": 2
}
