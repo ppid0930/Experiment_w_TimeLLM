{
 "cells": [
  {
   "cell_type": "code",
   "execution_count": 25,
   "metadata": {},
   "outputs": [],
   "source": [
    "import matplotlib.pyplot as plt\n",
    "import numpy as np\n",
    "from matplotlib import collections as mc\n",
    "\n",
    "from ysdc_dataset_api.dataset import MotionPredictionDataset\n",
    "from ysdc_dataset_api.features import FeatureRenderer\n",
    "from ysdc_dataset_api.utils import transform_2d_points"
   ]
  },
  {
   "cell_type": "markdown",
   "metadata": {},
   "source": [
    "In this notebook we give an example on how to render data to image representation and use it with pytorch-style dataset for model training."
   ]
  },
  {
   "cell_type": "markdown",
   "metadata": {},
   "source": [
    "## Create a renderer"
   ]
  },
  {
   "cell_type": "code",
   "execution_count": 2,
   "metadata": {},
   "outputs": [],
   "source": [
    "# Define a renderer config\n",
    "\n",
    "renderer_config = {\n",
    "    # parameters of feature maps to render\n",
    "    'feature_map_params': {\n",
    "        'rows': 400,\n",
    "        'cols': 400,\n",
    "        'resolution': 0.25,  # number of meters in one pixel\n",
    "    },\n",
    "    'renderers_groups': [\n",
    "        # Having several feature map groups\n",
    "        # allows to independently render feature maps with different history length.\n",
    "        # This could be useful to render static features (road graph, etc.) once.\n",
    "        {\n",
    "            # start: int, first timestamp into the past to render, 0 – prediction time\n",
    "            # stop: int, last timestamp to render inclusively, 24 – farthest known point into the past\n",
    "            # step: int, grid step size,\n",
    "            #            step=1 renders all points between start and stop,\n",
    "            #            step=2 renders every second point, etc.\n",
    "            'time_grid_params': {\n",
    "                'start': 0,\n",
    "                'stop': 0,\n",
    "                'step': 1,\n",
    "            },\n",
    "            'renderers': [\n",
    "                # each value is rendered at its own channel\n",
    "                # occupancy -- 1 channel\n",
    "                # velocity -- 2 channels (x, y)\n",
    "                # acceleration -- 2 channels (x, y)\n",
    "                # yaw -- 1 channel\n",
    "                {'vehicles': ['occupancy', 'velocity', 'acceleration', 'yaw']},\n",
    "                # only occupancy and velocity are available for pedestrians\n",
    "                {'pedestrians': ['occupancy', 'velocity']},\n",
    "            ]\n",
    "        },\n",
    "        {\n",
    "            'time_grid_params': {\n",
    "                'start': 0,\n",
    "                'stop': 0,\n",
    "                'step': 1,\n",
    "            },\n",
    "            'renderers': [\n",
    "                {\n",
    "                    'road_graph': [\n",
    "                        'crosswalk_occupancy',\n",
    "                        'crosswalk_availability',\n",
    "                        'lane_availability',\n",
    "                        'lane_direction',\n",
    "                        'lane_occupancy',\n",
    "                        'lane_priority',\n",
    "                        'lane_speed_limit',\n",
    "                        'road_polygons',\n",
    "                    ]\n",
    "                }\n",
    "            ]\n",
    "        }\n",
    "    ]\n",
    "}"
   ]
  },
  {
   "cell_type": "code",
   "execution_count": 3,
   "metadata": {},
   "outputs": [],
   "source": [
    "# Create a renderer instance\n",
    "\n",
    "renderer = FeatureRenderer(renderer_config)"
   ]
  },
  {
   "cell_type": "code",
   "execution_count": 6,
   "metadata": {},
   "outputs": [],
   "source": [
    "# Load protobufs for training dataset.\n",
    "dataset_path = '/path/to/dataset_pb/'\n",
    "\n",
    "# Path to file with training scene tags. Tags file is located in the raw data archive.\n",
    "scene_tags_fpath = '/path/to/dataset_pb/tags.txt'"
   ]
  },
  {
   "cell_type": "code",
   "execution_count": 7,
   "metadata": {},
   "outputs": [
    {
     "name": "stdout",
     "output_type": "stream",
     "text": [
      "50000/50000 scenes fit the filter criteria.\n"
     ]
    }
   ],
   "source": [
    "dataset = MotionPredictionDataset(\n",
    "    dataset_path=dataset_path,\n",
    "    scene_tags_fpath=scene_tags_fpath,\n",
    "    feature_producer=renderer,\n",
    "    transform_ground_truth_to_agent_frame=True,\n",
    ")"
   ]
  },
  {
   "cell_type": "code",
   "execution_count": 8,
   "metadata": {},
   "outputs": [
    {
     "data": {
      "text/plain": [
       "50000"
      ]
     },
     "execution_count": 8,
     "metadata": {},
     "output_type": "execute_result"
    }
   ],
   "source": [
    "# Number of scenes in dataset.\n",
    "# Actual number of objects in dataset is bigger,\n",
    "# since we consider multiple agents in a scene for prediction.\n",
    "dataset.num_scenes"
   ]
  },
  {
   "cell_type": "code",
   "execution_count": 9,
   "metadata": {},
   "outputs": [],
   "source": [
    "# Create an iterator over the dataset\n",
    "dataset_iter = iter(dataset)"
   ]
  },
  {
   "cell_type": "code",
   "execution_count": 10,
   "metadata": {},
   "outputs": [],
   "source": [
    "# Take some scene\n",
    "for i in range(10):\n",
    "    data_item = next(dataset_iter)"
   ]
  },
  {
   "cell_type": "markdown",
   "metadata": {},
   "source": [
    "One data item contains the following fields:\n",
    "- scene_id, a unique identifier of the scene\n",
    "- track_id, a unique id for the vehicle we currently consider as a target for the prediction\n",
    "- feature_maps, a numpy array with rendered scene. Feature maps are centered around the current vehicle\n",
    "- ground_truth_trajectory, a numpy array storing the future vehicle coordinates\n",
    "\n",
    "```feature_maps``` and ```ground_truth_trajectory``` could be used as inputs and outputs for training your model."
   ]
  },
  {
   "cell_type": "code",
   "execution_count": 12,
   "metadata": {},
   "outputs": [
    {
     "name": "stdout",
     "output_type": "stream",
     "text": [
      "dict_keys(['scene_id', 'track_id', 'scene_tags', 'ground_truth_trajectory', 'feature_maps'])\n"
     ]
    }
   ],
   "source": [
    "print(f'{data_item.keys()}')"
   ]
  },
  {
   "cell_type": "code",
   "execution_count": 13,
   "metadata": {},
   "outputs": [
    {
     "data": {
      "text/plain": [
       "(17, 400, 400)"
      ]
     },
     "execution_count": 13,
     "metadata": {},
     "output_type": "execute_result"
    }
   ],
   "source": [
    "# Feature maps are in channels first format\n",
    "data_item['feature_maps'].shape"
   ]
  },
  {
   "cell_type": "code",
   "execution_count": 16,
   "metadata": {},
   "outputs": [
    {
     "data": {
      "text/plain": [
       "<matplotlib.image.AxesImage at 0x1487a1ac0>"
      ]
     },
     "execution_count": 16,
     "metadata": {},
     "output_type": "execute_result"
    },
    {
     "data": {
      "image/png": "[encoded data removed]",
      "text/plain": [
       "<Figure size 720x720 with 1 Axes>"
      ]
     },
     "metadata": {
      "needs_background": "light"
     },
     "output_type": "display_data"
    }
   ],
   "source": [
    "# Plot vehicles occupancy, pedestrian occupancy, lane occupancy and road polygon\n",
    "plt.figure(figsize=(10, 10))\n",
    "plt.imshow(data_item['feature_maps'][0], origin='lower', cmap='binary', alpha=0.7)\n",
    "plt.imshow(data_item['feature_maps'][6], origin='lower', cmap='binary', alpha=0.5)\n",
    "plt.imshow(data_item['feature_maps'][13], origin='lower', cmap='binary', alpha=0.2)\n",
    "plt.imshow(data_item['feature_maps'][16], origin='lower', cmap='binary', alpha=0.1)"
   ]
  },
  {
   "cell_type": "markdown",
   "metadata": {},
   "source": [
    "## Filtration by Tags"
   ]
  },
  {
   "cell_type": "code",
   "execution_count": 17,
   "metadata": {},
   "outputs": [],
   "source": [
    "# To filter scenes by tags one should specify a filter function\n",
    "# The scene tags dict has following structure:\n",
    "# {\n",
    "#     'day_time': one of {'kNight', 'kMorning', 'kAfternoon', 'kEvening'}\n",
    "#     'season': one of {'kWinter', 'kSpring', 'kSummer', 'kAutumn'}\n",
    "#     'track': one of {'Moscow' , 'Skolkovo', 'Innopolis', 'AnnArbor', 'Modiin', 'TelAviv'}\n",
    "#     'sun_phase': one of {'kAstronomicalNight', 'kTwilight', 'kDaylight'}\n",
    "#     'precipitation': one of {'kNoPrecipitation', 'kRain', 'kSleet', 'kSnow'}\n",
    "# }\n",
    "# Full description of protobuf message is available at tags.proto file in sources\n",
    "\n",
    "\n",
    "def filter_scene(scene_tags_dict):\n",
    "    if scene_tags_dict['track'] == 'Innopolis' and scene_tags_dict['precipitation'] == 'kRain':\n",
    "        return True\n",
    "    else:\n",
    "        return False"
   ]
  },
  {
   "cell_type": "code",
   "execution_count": 18,
   "metadata": {},
   "outputs": [],
   "source": [
    "# Trajectory tags list can include any number of the following non-mutually exclusive tags.\n",
    "# [\n",
    "#     'kMoveLeft', 'kMoveRight', 'kMoveForward', 'kMoveBack',\n",
    "#     'kAcceleration', 'kDeceleration', 'kUniform',\n",
    "#     'kStopping', 'kStarting', 'kStationary'\n",
    "# ]\n",
    "\n",
    "\n",
    "def filter_trajectory(trajectory_tags_list):\n",
    "    if 'kMoveRight' in trajectory_tags_list:\n",
    "        return True\n",
    "    else:\n",
    "        return False"
   ]
  },
  {
   "cell_type": "code",
   "execution_count": 19,
   "metadata": {},
   "outputs": [
    {
     "name": "stdout",
     "output_type": "stream",
     "text": [
      "176/50000 scenes fit the filter criteria.\n"
     ]
    }
   ],
   "source": [
    "# Let's try to filter scenes.\n",
    "# We need to use development data as long as train data contains no scenes with precipitation.\n",
    "\n",
    "dataset = MotionPredictionDataset(\n",
    "    dataset_path=dataset_path,\n",
    "    scene_tags_fpath=scene_tags_fpath,\n",
    "    feature_producer=renderer,\n",
    "    transform_ground_truth_to_agent_frame=True,\n",
    "    scene_tags_filter=filter_scene,\n",
    "    trajectory_tags_filter=filter_trajectory,\n",
    ")"
   ]
  },
  {
   "cell_type": "code",
   "execution_count": 20,
   "metadata": {},
   "outputs": [],
   "source": [
    "dataset_iter = iter(dataset)\n",
    "for i in range(10):\n",
    "    data_item = next(dataset_iter)"
   ]
  },
  {
   "cell_type": "code",
   "execution_count": 23,
   "metadata": {},
   "outputs": [],
   "source": [
    "transformed_gt = transform_2d_points(data_item['ground_truth_trajectory'], renderer.to_feature_map_tf)\n",
    "transformed_gt = np.round(transformed_gt - 0.5).astype(np.int32)"
   ]
  },
  {
   "cell_type": "code",
   "execution_count": 26,
   "metadata": {},
   "outputs": [
    {
     "data": {
      "text/plain": [
       "<matplotlib.collections.LineCollection at 0x1458f8d60>"
      ]
     },
     "execution_count": 26,
     "metadata": {},
     "output_type": "execute_result"
    },
    {
     "data": {
      "image/png": "[encoded data removed]",
      "text/plain": [
       "<Figure size 720x720 with 1 Axes>"
      ]
     },
     "metadata": {
      "needs_background": "light"
     },
     "output_type": "display_data"
    }
   ],
   "source": [
    "plt.figure(figsize=(10, 10))\n",
    "plt.imshow(data_item['feature_maps'][0], origin='lower', cmap='binary', alpha=0.7)\n",
    "plt.imshow(data_item['feature_maps'][6], origin='lower', cmap='binary', alpha=0.5)\n",
    "plt.imshow(data_item['feature_maps'][13], origin='lower', cmap='binary', alpha=0.2)\n",
    "plt.imshow(data_item['feature_maps'][16], origin='lower', cmap='binary', alpha=0.1)\n",
    "ax = plt.gca()\n",
    "ax.add_collection(mc.LineCollection([transformed_gt], color='green'))"
   ]
  },
  {
   "cell_type": "markdown",
   "metadata": {},
   "source": [
    "## Prerendered Dataset\n",
    "\n",
    "To avoid the cost of online rendering we provide rendered feature maps at 128x128 resolution with zlib compression level 1."
   ]
  },
  {
   "cell_type": "code",
   "execution_count": 38,
   "metadata": {},
   "outputs": [
    {
     "name": "stdout",
     "output_type": "stream",
     "text": [
      "500000/500000 scenes fit the filter criteria.\n"
     ]
    }
   ],
   "source": [
    "# Define the path to the pre-rendered feature maps corresponding to the dataset at \"dataset_path\".\n",
    "prerendered_dataset_path = '/path/to/prerendered/dataset/'\n",
    "\n",
    "# We use raw protobuf dataset here to extract ground truth trajectories\n",
    "prerenderer_dataset = MotionPredictionDataset(\n",
    "    dataset_path=dataset_path,\n",
    "    scene_tags_fpath=scene_tags_fpath,\n",
    "    prerendered_dataset_path=prerendered_dataset_path,\n",
    ")"
   ]
  },
  {
   "cell_type": "code",
   "execution_count": 39,
   "metadata": {},
   "outputs": [],
   "source": [
    "dataset_iter = iter(prerenderer_dataset)\n",
    "for i in range(10):\n",
    "    item = next(dataset_iter)"
   ]
  },
  {
   "cell_type": "code",
   "execution_count": 41,
   "metadata": {},
   "outputs": [
    {
     "data": {
      "text/plain": [
       "<matplotlib.image.AxesImage at 0x7fac0f008100>"
      ]
     },
     "execution_count": 41,
     "metadata": {},
     "output_type": "execute_result"
    },
    {
     "data": {
      "image/png": "[encoded data removed]",
      "text/plain": [
       "<Figure size 720x720 with 1 Axes>"
      ]
     },
     "metadata": {
      "needs_background": "light"
     },
     "output_type": "display_data"
    }
   ],
   "source": [
    "plt.figure(figsize=(10, 10))\n",
    "plt.imshow(item['prerendered_feature_map'][0], origin='lower', cmap='binary', alpha=0.7)\n",
    "plt.imshow(item['prerendered_feature_map'][6], origin='lower', cmap='binary', alpha=0.5)\n",
    "plt.imshow(item['prerendered_feature_map'][13], origin='lower', cmap='binary', alpha=0.2)\n",
    "plt.imshow(item['prerendered_feature_map'][16], origin='lower', cmap='binary', alpha=0.1)"
   ]
  }
 ],
 "metadata": {
  "interpreter": {
   "hash": "52fd37fc19794e402c13085b7708ca3d356bc0f59c68efac4f5e72fab90944f9"
  },
  "kernelspec": {
   "display_name": "Python 3.9.5 64-bit ('.pytorch': venv)",
   "name": "python3"
  },
  "language_info": {
   "codemirror_mode": {
    "name": "ipython",
    "version": 3
   },
   "file_extension": ".py",
   "mimetype": "text/x-python",
   "name": "python",
   "nbconvert_exporter": "python",
   "pygments_lexer": "ipython3",
   "version": "3.9.5"
  },
  "pycharm": {
   "stem_cell": {
    "cell_type": "raw",
    "metadata": {
     "collapsed": false
    },
    "source": []
   }
  }
 },
 "nbformat": 4,
 "nbformat_minor": 5
}
